{
 "cells": [
  {
   "cell_type": "code",
   "execution_count": 7,
   "id": "0cfe9527",
   "metadata": {},
   "outputs": [
    {
     "name": "stdout",
     "output_type": "stream",
     "text": [
      "Total number of trips: 2\n",
      "Average rating: 4.75\n"
     ]
    }
   ],
   "source": [
    "class UberDataAnalysis:\n",
    "    def __init__(self, data):\n",
    "        self.data = data\n",
    "\n",
    "    def analyze_total_trips(self):\n",
    "        total_trips = len(self.data)\n",
    "        print(f\"Total number of trips: {total_trips}\")\n",
    "\n",
    "    def analyze_average_rating(self):\n",
    "        ratings = [trip['rating'] for trip in self.data if 'rating' in trip]\n",
    "        if ratings:\n",
    "            average_rating = sum(ratings) / len(ratings)\n",
    "            print(f\"Average rating: {average_rating}\")\n",
    "        else:\n",
    "            print(\"No ratings available for analysis.\")\n",
    "\n",
    "    # Add more analysis methods as needed\n",
    "\n",
    "# Sample Uber data\n",
    "uber_data = [\n",
    "    {'date': '2016-03-01', 'rating': 4.5, 'fare': 15.25},\n",
    "    {'date': '2016-03-02', 'rating': 5.0, 'fare': 20.50},\n",
    "    # Add more data entries\n",
    "]\n",
    "\n",
    "# Creating an object of UberDataAnalysis class\n",
    "uber_analysis = UberDataAnalysis(uber_data)\n",
    "\n",
    "# Performing analysis\n",
    "uber_analysis.analyze_total_trips()\n",
    "uber_analysis.analyze_average_rating()\n",
    "# Call more analysis methods as needed\n"
   ]
  }
 ],
 "metadata": {
  "kernelspec": {
   "display_name": "Python 3 (ipykernel)",
   "language": "python",
   "name": "python3"
  },
  "language_info": {
   "codemirror_mode": {
    "name": "ipython",
    "version": 3
   },
   "file_extension": ".py",
   "mimetype": "text/x-python",
   "name": "python",
   "nbconvert_exporter": "python",
   "pygments_lexer": "ipython3",
   "version": "3.11.5"
  }
 },
 "nbformat": 4,
 "nbformat_minor": 5
}
